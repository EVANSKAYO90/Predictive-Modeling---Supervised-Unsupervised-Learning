{
 "cells": [
  {
   "cell_type": "markdown",
   "id": "c0815136",
   "metadata": {},
   "source": [
    "## Convolutional Neural Network on the Fashion - MNIST Dataset"
   ]
  },
  {
   "cell_type": "markdown",
   "id": "abd474a1",
   "metadata": {},
   "source": [
    "A neural network is a series of algorithms that endeavors to recognize underlying relationships in a set of data through a process that mimics the way the human brain operates. Neural networks can adapt to changing input; so the network generates the best possible result without needing to redesign the output criteria. A convolutional neural network, also known as a CNN or ConvNet is a deep, feed-forward artificial neural network that is adapted for analyzing and identifying visual data such as digital images or photographs.CNNs are inspired by the biological visual cortex that has a small region of cells that are sensitive to the specific areas of the vision field such as horizontal or vertical edges. CNNs have been one of the most influential innovations in the field of computer vision. CNNs have been successful in numerous real-life use cases such as face recognition, image classification and self driving cars."
   ]
  },
  {
   "cell_type": "markdown",
   "id": "f9c8dc15",
   "metadata": {},
   "source": [
    "### How do CNNs work?"
   ]
  },
  {
   "cell_type": "markdown",
   "id": "c3b737e4",
   "metadata": {},
   "source": [
    "Each neuron computes a dot product between its weights and a small receptive field that it is connected to in the input volume to determine the output of neurons that are attached to limited areas or receptive fields in the input. A feature map is extracted from the input image following each computation. In other words, see an image represented as a 5x5 matrix of values. Then, picture sliding a 3x3 matrix around the image as a window or kernel. You multiply the values of your 3x3 window by the portions of the image that the window is now obscuring at each location in that matrix. As a consequence, you will receive a single number that sums up all the data in the image window. This layer is used for filtering, and as the window passes across the image, you look for patterns there. The values produced by the convolution are multiplied by filters, which is how this works.\n",
    "\n",
    "Subsampling's goal is to obtain an input representation by cutting down on its dimensions, which aids in lowering overfitting. Max pooling is one of the subsampling methods. Using this method, you choose the region's highest pixel value based on its size. In other words, max pooling selects the biggest value from the image window that the kernel is currently covering. For instance, a 2 x 2 max-pooling layer will choose the highest pixel intensity value from that region. The pooling layer functions similarly to the convolution layer after that! You can also move a kernel or window across an image; the only distinction is that the function used to the kernel and image window isn't linear.\n",
    "\n",
    "The fully connected layer's goal is to flatten the high-level features that are combined and learned by convolutional layers. It sends the output that has been flattened to the output layer, where you can apply a sigmoid or a softmax classifier to predict the input class label."
   ]
  },
  {
   "cell_type": "markdown",
   "id": "6dd028a3",
   "metadata": {},
   "source": [
    "### What is the MNIST Dataset?"
   ]
  },
  {
   "cell_type": "markdown",
   "id": "cb07f734",
   "metadata": {},
   "source": [
    "The Fashion-MNIST dataset consists of 7,000 images per category and 28x28 grayscale photos of each of 70,000 fashion products from 10 categories from Zalando. There are 60,000 photos in the training set and 10,000 in the test set. The MNIST dataset, which you use to categorize handwritten digits, is comparable to Fashion-MNIST. In other words, the MNIST dataset's image dimensions, training splits, and test splits are comparable."
   ]
  },
  {
   "cell_type": "markdown",
   "id": "715237ba",
   "metadata": {},
   "source": [
    "### Load Libraries"
   ]
  },
  {
   "cell_type": "code",
   "execution_count": 2,
   "id": "5ad1da2f",
   "metadata": {},
   "outputs": [],
   "source": [
    "import tensorflow as tf\n",
    "from tensorflow.keras.models import Sequential\n",
    "from tensorflow.keras.layers import Dropout, Activation,Flatten,Dense,Conv2D,MaxPooling2D\n",
    "import seaborn as sns\n",
    "import matplotlib.pyplot as plt\n",
    "import warnings\n",
    "warnings.filterwarnings('ignore')\n",
    "import pandas as pd\n",
    "import numpy as np\n",
    "from keras.utils import to_categorical"
   ]
  },
  {
   "cell_type": "markdown",
   "id": "01eaf540",
   "metadata": {},
   "source": [
    "### Load Datasets & Analyze the datasets"
   ]
  },
  {
   "cell_type": "code",
   "execution_count": 3,
   "id": "f9ea33c3",
   "metadata": {},
   "outputs": [],
   "source": [
    "train = pd.read_csv(\"train.csv\")\n",
    "test= pd.read_csv(\"test.csv\")"
   ]
  },
  {
   "cell_type": "code",
   "execution_count": 4,
   "id": "82004f72",
   "metadata": {},
   "outputs": [
    {
     "name": "stdout",
     "output_type": "stream",
     "text": [
      "The training data shape is :  (60000, 784) (60000,)\n",
      "The testing data shape is :  (10000, 784) (10000,)\n"
     ]
    }
   ],
   "source": [
    "# put labels into y_train variable\n",
    "Y_train = train[\"label\"]\n",
    "X_train = train.drop(labels = [\"label\"],axis = 1)\n",
    "Y_test = test[\"label\"]\n",
    "X_test = test.drop(labels = [\"label\"],axis = 1)\n",
    "print('The training data shape is : ', X_train.shape, Y_train.shape)\n",
    "print('The testing data shape is : ', X_test.shape, Y_test.shape)"
   ]
  },
  {
   "cell_type": "markdown",
   "id": "3f535987",
   "metadata": {},
   "source": [
    "### Visualize number of digits classes"
   ]
  },
  {
   "cell_type": "code",
   "execution_count": 5,
   "id": "ce9c944a",
   "metadata": {},
   "outputs": [
    {
     "data": {
      "text/plain": [
       "2    6000\n",
       "9    6000\n",
       "6    6000\n",
       "0    6000\n",
       "3    6000\n",
       "4    6000\n",
       "5    6000\n",
       "8    6000\n",
       "7    6000\n",
       "1    6000\n",
       "Name: label, dtype: int64"
      ]
     },
     "execution_count": 5,
     "metadata": {},
     "output_type": "execute_result"
    },
    {
     "data": {
      "image/png": "[encoded data removed]",
      "text/plain": [
       "<Figure size 1080x504 with 1 Axes>"
      ]
     },
     "metadata": {
      "needs_background": "light"
     },
     "output_type": "display_data"
    }
   ],
   "source": [
    "plt.figure(figsize=(15,7))\n",
    "g = sns.countplot(Y_train, palette=\"dark\")\n",
    "plt.title(\"Distribution of Specific Labels in trainset\")\n",
    "Y_train.value_counts()"
   ]
  },
  {
   "cell_type": "code",
   "execution_count": 6,
   "id": "b849cb41",
   "metadata": {},
   "outputs": [
    {
     "data": {
      "text/plain": [
       "0    1000\n",
       "1    1000\n",
       "2    1000\n",
       "3    1000\n",
       "8    1000\n",
       "6    1000\n",
       "5    1000\n",
       "4    1000\n",
       "7    1000\n",
       "9    1000\n",
       "Name: label, dtype: int64"
      ]
     },
     "execution_count": 6,
     "metadata": {},
     "output_type": "execute_result"
    },
    {
     "data": {
      "image/png": "[encoded data removed]",
      "text/plain": [
       "<Figure size 1080x504 with 1 Axes>"
      ]
     },
     "metadata": {
      "needs_background": "light"
     },
     "output_type": "display_data"
    }
   ],
   "source": [
    "plt.figure(figsize=(15,7))\n",
    "g = sns.countplot(Y_test, palette=\"dark\")\n",
    "plt.title(\"Distribution of Specific Labels in Test Set\")\n",
    "Y_test.value_counts()"
   ]
  },
  {
   "cell_type": "markdown",
   "id": "c0168f88",
   "metadata": {},
   "source": [
    "#### Find unique numbers from the train labels"
   ]
  },
  {
   "cell_type": "code",
   "execution_count": 7,
   "id": "fd5d0240",
   "metadata": {},
   "outputs": [
    {
     "name": "stdout",
     "output_type": "stream",
     "text": [
      "The total number of unique labels is Y_train :  10\n",
      "The unique labels are:  [0 1 2 3 4 5 6 7 8 9]\n",
      "The total number of unique labels is Y_test :  10\n",
      "The unique labels are:  [0 1 2 3 4 5 6 7 8 9]\n"
     ]
    }
   ],
   "source": [
    "classes = np.unique(Y_train)\n",
    "nClasses = len(classes)\n",
    "classes1 = np.unique(Y_test)\n",
    "nClasses1 = len(classes1)\n",
    "print('The total number of unique labels is Y_train : ', nClasses)\n",
    "print('The unique labels are: ', classes)\n",
    "print('The total number of unique labels is Y_test : ', nClasses1)\n",
    "print('The unique labels are: ', classes1)"
   ]
  },
  {
   "cell_type": "markdown",
   "id": "76c63b7b",
   "metadata": {},
   "source": [
    "### Plot Some samples"
   ]
  },
  {
   "cell_type": "code",
   "execution_count": 8,
   "id": "329ce336",
   "metadata": {},
   "outputs": [
    {
     "data": {
      "image/png": "[encoded data removed]",
      "text/plain": [
       "<Figure size 1008x576 with 10 Axes>"
      ]
     },
     "metadata": {
      "needs_background": "light"
     },
     "output_type": "display_data"
    }
   ],
   "source": [
    "plt.figure(figsize = (14,8))\n",
    "\n",
    "for i in range(10):\n",
    "    plt.subplot(2, 5, i+1)\n",
    "    img = X_train.iloc[i].to_numpy()\n",
    "    img = img.reshape((28,28))\n",
    "    plt.imshow(img,cmap='gray')\n",
    "    plt.title(\"Class: \" + str(i))\n",
    "    plt.axis(\"off\")\n",
    "    \n",
    "plt.show()"
   ]
  },
  {
   "cell_type": "markdown",
   "id": "7766357c",
   "metadata": {},
   "source": [
    "### Data Preprocessing "
   ]
  },
  {
   "cell_type": "markdown",
   "id": "4b0418b1",
   "metadata": {},
   "source": [
    "#### Reshaping"
   ]
  },
  {
   "cell_type": "code",
   "execution_count": 9,
   "id": "2ba99af7",
   "metadata": {},
   "outputs": [
    {
     "data": {
      "text/plain": [
       "((60000, 28, 28, 1), (10000, 28, 28, 1))"
      ]
     },
     "execution_count": 9,
     "metadata": {},
     "output_type": "execute_result"
    }
   ],
   "source": [
    "train_X = X_train.values.reshape(-1, 28,28, 1)\n",
    "test_X = X_test.values.reshape(-1, 28,28, 1)\n",
    "train_X.shape, test_X.shape"
   ]
  },
  {
   "cell_type": "markdown",
   "id": "78732b65",
   "metadata": {},
   "source": [
    "The data right now is in an int8 format, so before you feed it into the network you need to convert its type to float32, and you also have to rescale the pixel values in range 0 - 1 inclusive. So let's do that!"
   ]
  },
  {
   "cell_type": "markdown",
   "id": "e1a4d598",
   "metadata": {},
   "source": [
    "#### Normalization:"
   ]
  },
  {
   "cell_type": "raw",
   "id": "45479df6",
   "metadata": {},
   "source": [
    "Normalization is important in order to reduce the effect of illumination differences. Since it also brings the scale of the input down, it contributes to making CNN work a lot faster. "
   ]
  },
  {
   "cell_type": "code",
   "execution_count": 10,
   "id": "30973e80",
   "metadata": {},
   "outputs": [],
   "source": [
    "train_X = train_X.astype('float32')\n",
    "test_X = test_X.astype('float32')\n",
    "train_X = train_X / 255.\n",
    "test_X = test_X / 255."
   ]
  },
  {
   "cell_type": "markdown",
   "id": "f0725cd9",
   "metadata": {},
   "source": [
    "#### One-Hot Encoding"
   ]
  },
  {
   "cell_type": "code",
   "execution_count": 11,
   "id": "af6562bc",
   "metadata": {},
   "outputs": [
    {
     "name": "stdout",
     "output_type": "stream",
     "text": [
      "Original label: 2\n",
      "After conversion to one-hot: [0. 0. 1. 0. 0. 0. 0. 0. 0. 0.]\n"
     ]
    }
   ],
   "source": [
    "train_Y_one_hot = to_categorical(Y_train)\n",
    "test_Y_one_hot = to_categorical(Y_test)\n",
    "\n",
    "# Display the change for category label using one-hot encoding\n",
    "print('Original label:', Y_train[0])\n",
    "print('After conversion to one-hot:', train_Y_one_hot[0])"
   ]
  },
  {
   "cell_type": "markdown",
   "id": "6615e50f",
   "metadata": {},
   "source": [
    "### Split Dataset into Train and Validation"
   ]
  },
  {
   "cell_type": "code",
   "execution_count": 12,
   "id": "ca3701d3",
   "metadata": {},
   "outputs": [],
   "source": [
    "from sklearn.model_selection import train_test_split\n",
    "train_X,valid_X,train_label,valid_label = train_test_split(train_X, train_Y_one_hot, test_size=0.2, random_state=13)"
   ]
  },
  {
   "cell_type": "code",
   "execution_count": 13,
   "id": "01aea70f",
   "metadata": {},
   "outputs": [
    {
     "name": "stdout",
     "output_type": "stream",
     "text": [
      "Train data shape is: (48000, 28, 28, 1)\n",
      "Train Label data shape is: (48000, 10)\n",
      "Validation data shape is: (12000, 28, 28, 1)\n",
      "Validation label data shape is: (12000, 10)\n"
     ]
    }
   ],
   "source": [
    "print('Train data shape is:', train_X.shape)\n",
    "print('Train Label data shape is:', train_label.shape)\n",
    "print('Validation data shape is:', valid_X.shape)\n",
    "print('Validation label data shape is:', valid_label.shape)"
   ]
  },
  {
   "cell_type": "markdown",
   "id": "93c9d86d",
   "metadata": {},
   "source": [
    "### Building the Neural Network"
   ]
  },
  {
   "cell_type": "markdown",
   "id": "705fc2e8",
   "metadata": {},
   "source": [
    "### Model the data"
   ]
  },
  {
   "cell_type": "markdown",
   "id": "184a7cbc",
   "metadata": {},
   "source": [
    "First, let's import all the necessary modules required to train the model."
   ]
  },
  {
   "cell_type": "code",
   "execution_count": 23,
   "id": "fa05aaad",
   "metadata": {},
   "outputs": [],
   "source": [
    "import keras\n",
    "from keras.models import Sequential,Model\n",
    "from tensorflow.keras.layers import Input\n",
    "from tensorflow.keras.layers import BatchNormalization\n",
    "from keras.layers import Dense, Dropout, Flatten\n",
    "from keras.layers import Conv2D, MaxPooling2D\n",
    "from keras.layers import LeakyReLU\n",
    "batch_size = 64\n",
    "epochs = 5\n",
    "num_classes = 10"
   ]
  },
  {
   "cell_type": "markdown",
   "id": "cde64440",
   "metadata": {},
   "source": [
    "I built the CNN in Keras. I began by adding the first convolutional layer with Conv2D() and continued with stacking . Note that you use this function because you're working with images! Next, you add the Leaky ReLU activation function which helps the network learn non-linear decision boundaries. Since you have ten different classes, you'll need a non-linear decision boundary that could separate these ten classes which are not linearly separable.\n",
    "\n",
    "More specifically, you add Leaky ReLUs because they attempt to fix the problem of dying Rectified Linear Units (ReLUs). The ReLU activation function is used a lot in neural network architectures and more specifically in convolutional networks, where it has proven to be more effective than the widely used logistic sigmoid function. -The ReLU function allows the activation to be thresholded at zero. However, during the training, ReLU units can \"die\". This can happen when a large gradient flows through a ReLU neuron: it can cause the weights to update in such a way that the neuron will never activate on any data point again. If this happens, then the gradient flowing through the unit will forever be zero from that point on. Leaky ReLUs attempt to solve this: the function will not be zero but will instead have a small negative slope.\n",
    "\n",
    "Next, you'll add the max-pooling layer with MaxPooling2D() and so on. The last layer is a Dense layer that has a softmax activation function with 10 units, which is needed for this multi-class classification problem."
   ]
  },
  {
   "cell_type": "code",
   "execution_count": 15,
   "id": "e3e40bc8",
   "metadata": {},
   "outputs": [
    {
     "name": "stderr",
     "output_type": "stream",
     "text": [
      "2022-08-01 22:46:40.758341: I tensorflow/core/platform/cpu_feature_guard.cc:193] This TensorFlow binary is optimized with oneAPI Deep Neural Network Library (oneDNN) to use the following CPU instructions in performance-critical operations:  AVX2 FMA\n",
      "To enable them in other operations, rebuild TensorFlow with the appropriate compiler flags.\n"
     ]
    }
   ],
   "source": [
    "mnist_model = Sequential()\n",
    "mnist_model.add(Conv2D(32, kernel_size=(5, 5),activation='linear',input_shape=(28,28,1),padding='same'))\n",
    "mnist_model.add(LeakyReLU(alpha=0.1))\n",
    "mnist_model.add(MaxPooling2D((2, 2),padding='same'))\n",
    "mnist_model.add(Conv2D(64, (5, 5), activation='linear',padding='same'))\n",
    "mnist_model.add(LeakyReLU(alpha=0.1))\n",
    "mnist_model.add(MaxPooling2D(pool_size=(2, 2),padding='same'))\n",
    "mnist_model.add(Conv2D(128, (5, 5), activation='linear',padding='same'))\n",
    "mnist_model.add(LeakyReLU(alpha=0.1))                  \n",
    "mnist_model.add(MaxPooling2D(pool_size=(2, 2),padding='same'))\n",
    "mnist_model.add(Conv2D(256, (5, 5), activation='linear',padding='same'))\n",
    "mnist_model.add(LeakyReLU(alpha=0.1))                  \n",
    "mnist_model.add(MaxPooling2D(pool_size=(2, 2),padding='same'))\n",
    "mnist_model.add(Conv2D(512, (5, 5), activation='linear',padding='same'))\n",
    "mnist_model.add(LeakyReLU(alpha=0.1))                  \n",
    "mnist_model.add(MaxPooling2D(pool_size=(2, 2),padding='same'))\n",
    "mnist_model.add(Flatten())\n",
    "mnist_model.add(Dense(512, activation='linear'))\n",
    "mnist_model.add(LeakyReLU(alpha=0.1))                  \n",
    "mnist_model.add(Dense(num_classes, activation='softmax'))"
   ]
  },
  {
   "cell_type": "markdown",
   "id": "3bbb398c",
   "metadata": {},
   "source": [
    "### Compile Model"
   ]
  },
  {
   "cell_type": "markdown",
   "id": "c62bfcb7",
   "metadata": {},
   "source": [
    "After the model is created, you compile it using the Adam optimizer, one of the most popular optimization algorithms. You can read more about this optimizer here. Additionally, you specify the loss type which is categorical cross entropy which is used for multi-class classification, you can also use binary cross-entropy as the loss function. Lastly, you specify the metrics as accuracy which you want to analyze while the model is training."
   ]
  },
  {
   "cell_type": "code",
   "execution_count": 16,
   "id": "e50ec1ba",
   "metadata": {},
   "outputs": [],
   "source": [
    "mnist_model.compile(loss=keras.losses.categorical_crossentropy, optimizer=keras.optimizers.Adam(),metrics=['accuracy'])"
   ]
  },
  {
   "cell_type": "markdown",
   "id": "da87c689",
   "metadata": {},
   "source": [
    "Let's visualize the layers that you created in the above step by using the summary function. This will show some parameters (weights and biases) in each layer and also the total parameters in your model."
   ]
  },
  {
   "cell_type": "code",
   "execution_count": 17,
   "id": "83a57e18",
   "metadata": {},
   "outputs": [
    {
     "name": "stdout",
     "output_type": "stream",
     "text": [
      "Model: \"sequential\"\n",
      "_________________________________________________________________\n",
      " Layer (type)                Output Shape              Param #   \n",
      "=================================================================\n",
      " conv2d (Conv2D)             (None, 28, 28, 32)        832       \n",
      "                                                                 \n",
      " leaky_re_lu (LeakyReLU)     (None, 28, 28, 32)        0         \n",
      "                                                                 \n",
      " max_pooling2d (MaxPooling2D  (None, 14, 14, 32)       0         \n",
      " )                                                               \n",
      "                                                                 \n",
      " conv2d_1 (Conv2D)           (None, 14, 14, 64)        51264     \n",
      "                                                                 \n",
      " leaky_re_lu_1 (LeakyReLU)   (None, 14, 14, 64)        0         \n",
      "                                                                 \n",
      " max_pooling2d_1 (MaxPooling  (None, 7, 7, 64)         0         \n",
      " 2D)                                                             \n",
      "                                                                 \n",
      " conv2d_2 (Conv2D)           (None, 7, 7, 128)         204928    \n",
      "                                                                 \n",
      " leaky_re_lu_2 (LeakyReLU)   (None, 7, 7, 128)         0         \n",
      "                                                                 \n",
      " max_pooling2d_2 (MaxPooling  (None, 4, 4, 128)        0         \n",
      " 2D)                                                             \n",
      "                                                                 \n",
      " conv2d_3 (Conv2D)           (None, 4, 4, 256)         819456    \n",
      "                                                                 \n",
      " leaky_re_lu_3 (LeakyReLU)   (None, 4, 4, 256)         0         \n",
      "                                                                 \n",
      " max_pooling2d_3 (MaxPooling  (None, 2, 2, 256)        0         \n",
      " 2D)                                                             \n",
      "                                                                 \n",
      " conv2d_4 (Conv2D)           (None, 2, 2, 512)         3277312   \n",
      "                                                                 \n",
      " leaky_re_lu_4 (LeakyReLU)   (None, 2, 2, 512)         0         \n",
      "                                                                 \n",
      " max_pooling2d_4 (MaxPooling  (None, 1, 1, 512)        0         \n",
      " 2D)                                                             \n",
      "                                                                 \n",
      " flatten (Flatten)           (None, 512)               0         \n",
      "                                                                 \n",
      " dense (Dense)               (None, 512)               262656    \n",
      "                                                                 \n",
      " leaky_re_lu_5 (LeakyReLU)   (None, 512)               0         \n",
      "                                                                 \n",
      " dense_1 (Dense)             (None, 10)                5130      \n",
      "                                                                 \n",
      "=================================================================\n",
      "Total params: 4,621,578\n",
      "Trainable params: 4,621,578\n",
      "Non-trainable params: 0\n",
      "_________________________________________________________________\n"
     ]
    }
   ],
   "source": [
    "mnist_model.summary()"
   ]
  },
  {
   "cell_type": "markdown",
   "id": "e86b0695",
   "metadata": {},
   "source": [
    "### Train the model"
   ]
  },
  {
   "cell_type": "markdown",
   "id": "69f3f3b4",
   "metadata": {},
   "source": [
    "It's finally time to train the model with Keras' fit() function! The model trains for 20 epochs. "
   ]
  },
  {
   "cell_type": "code",
   "execution_count": 18,
   "id": "7ef9586c",
   "metadata": {},
   "outputs": [
    {
     "name": "stdout",
     "output_type": "stream",
     "text": [
      "Epoch 1/5\n",
      "750/750 [==============================] - 864s 1s/step - loss: 0.5088 - accuracy: 0.8077 - val_loss: 0.3657 - val_accuracy: 0.8606\n",
      "Epoch 2/5\n",
      "750/750 [==============================] - 1444s 2s/step - loss: 0.2997 - accuracy: 0.8896 - val_loss: 0.2726 - val_accuracy: 0.9008\n",
      "Epoch 3/5\n",
      "750/750 [==============================] - 800s 1s/step - loss: 0.2491 - accuracy: 0.9080 - val_loss: 0.2715 - val_accuracy: 0.9033\n",
      "Epoch 4/5\n",
      "750/750 [==============================] - 818s 1s/step - loss: 0.2186 - accuracy: 0.9191 - val_loss: 0.2882 - val_accuracy: 0.9025\n",
      "Epoch 5/5\n",
      "750/750 [==============================] - 797s 1s/step - loss: 0.1896 - accuracy: 0.9288 - val_loss: 0.2390 - val_accuracy: 0.9118\n"
     ]
    }
   ],
   "source": [
    "mnist_train = mnist_model.fit(train_X, train_label, batch_size=batch_size,epochs=epochs,verbose=1,validation_data=(valid_X, valid_label))"
   ]
  },
  {
   "cell_type": "markdown",
   "id": "f5220109",
   "metadata": {},
   "source": [
    "I trained the model on the fashion-MNIST dataset for 5 epochs. The model performed very will with a training accuracy of 92% and training loss of 0.1896. The validation accuracy is 91% indicating that the model is not overfitting."
   ]
  },
  {
   "cell_type": "markdown",
   "id": "02710dc4",
   "metadata": {},
   "source": [
    "### Model evaluation on the Test set"
   ]
  },
  {
   "cell_type": "code",
   "execution_count": 19,
   "id": "1db45eac",
   "metadata": {},
   "outputs": [
    {
     "name": "stdout",
     "output_type": "stream",
     "text": [
      "Test loss: 0.23286262154579163\n",
      "Test accuracy: 0.9153000116348267\n"
     ]
    }
   ],
   "source": [
    "test_eval = mnist_model.evaluate(test_X, test_Y_one_hot, verbose=0)\n",
    "print('Test loss:', test_eval[0])\n",
    "print('Test accuracy:', test_eval[1])"
   ]
  },
  {
   "cell_type": "markdown",
   "id": "5a0c822d",
   "metadata": {},
   "source": [
    "The accuracy of the model on the test data is 91.53%. In order to evaluate the model better, it is important to plot the accuracy and loss plots between training and validation data. The test loss was at 0.2328."
   ]
  },
  {
   "cell_type": "code",
   "execution_count": 20,
   "id": "fe6b3499",
   "metadata": {},
   "outputs": [
    {
     "data": {
      "image/png": "[encoded data removed]",
      "text/plain": [
       "<Figure size 432x288 with 1 Axes>"
      ]
     },
     "metadata": {
      "needs_background": "light"
     },
     "output_type": "display_data"
    },
    {
     "data": {
      "image/png": "[encoded data removed]",
      "text/plain": [
       "<Figure size 432x288 with 1 Axes>"
      ]
     },
     "metadata": {
      "needs_background": "light"
     },
     "output_type": "display_data"
    }
   ],
   "source": [
    "accuracy = mnist_train.history['accuracy']\n",
    "val_accuracy = mnist_train.history['val_accuracy']\n",
    "loss = mnist_train.history['loss']\n",
    "val_loss = mnist_train.history['val_loss']\n",
    "epochs = range(len(accuracy))\n",
    "plt.plot(epochs, accuracy, 'bo', label='Training accuracy')\n",
    "plt.plot(epochs, val_accuracy, 'b', label='Validation accuracy')\n",
    "plt.title('Training and validation accuracy')\n",
    "plt.legend()\n",
    "plt.figure()\n",
    "plt.plot(epochs, loss, 'bo', label='Training loss')\n",
    "plt.plot(epochs, val_loss, 'b', label='Validation loss')\n",
    "plt.title('Training and validation loss')\n",
    "plt.legend()\n",
    "plt.show()"
   ]
  },
  {
   "cell_type": "markdown",
   "id": "4144c30f",
   "metadata": {},
   "source": [
    "We can observe from the model graph above that there is no overfitting. The model train accuracy and validation accuracy increased almost at the same rate. That is the same with the validation loss and the training loss. The decline in loss occured at the same rate."
   ]
  },
  {
   "cell_type": "markdown",
   "id": "bbaf9adf",
   "metadata": {},
   "source": [
    "### Predict Labels"
   ]
  },
  {
   "cell_type": "code",
   "execution_count": 25,
   "id": "228b1cb3",
   "metadata": {},
   "outputs": [
    {
     "name": "stdout",
     "output_type": "stream",
     "text": [
      "313/313 [==============================] - 10s 30ms/step\n"
     ]
    },
    {
     "data": {
      "text/plain": [
       "((10000,), (10000,))"
      ]
     },
     "execution_count": 25,
     "metadata": {},
     "output_type": "execute_result"
    }
   ],
   "source": [
    "pred_class = mnist_model.predict(test_X)\n",
    "pred_class = np.argmax(np.round(pred_class),axis=1)\n",
    "pred_class.shape, Y_test.shape"
   ]
  },
  {
   "cell_type": "code",
   "execution_count": 27,
   "id": "81db5f2c",
   "metadata": {},
   "outputs": [
    {
     "name": "stdout",
     "output_type": "stream",
     "text": [
      "              precision    recall  f1-score   support\n",
      "\n",
      "     Class 0       0.71      0.93      0.80      1000\n",
      "     Class 1       0.99      1.00      0.99      1000\n",
      "     Class 2       0.85      0.87      0.86      1000\n",
      "     Class 3       0.93      0.93      0.93      1000\n",
      "     Class 4       0.89      0.84      0.86      1000\n",
      "     Class 5       0.99      0.97      0.98      1000\n",
      "     Class 6       0.87      0.66      0.75      1000\n",
      "     Class 7       0.94      0.97      0.96      1000\n",
      "     Class 8       1.00      0.97      0.98      1000\n",
      "     Class 9       0.97      0.96      0.97      1000\n",
      "\n",
      "    accuracy                           0.91     10000\n",
      "   macro avg       0.91      0.91      0.91     10000\n",
      "weighted avg       0.91      0.91      0.91     10000\n",
      "\n"
     ]
    }
   ],
   "source": [
    "from sklearn.metrics import classification_report\n",
    "target_names = [\"Class {}\".format(i) for i in range(num_classes)]\n",
    "print(classification_report(Y_test, pred_class, target_names=target_names))"
   ]
  },
  {
   "cell_type": "markdown",
   "id": "8f1afa67",
   "metadata": {},
   "source": [
    "It is evident that the classifier is underperforming for class 6 given the relatively low precision of 87% and low recall of 66%. The classifier also performed poorly in classifying classes 0 and 2 given their relatively low recall and precision scores. The three classes (0,2 and 6) are images of a long-sleeved shirt and hence explain why the model had some difficulty in distinguishing between each of them."
   ]
  },
  {
   "cell_type": "code",
   "execution_count": null,
   "id": "393e9b0b",
   "metadata": {},
   "outputs": [],
   "source": []
  }
 ],
 "metadata": {
  "kernelspec": {
   "display_name": "Python 3 (ipykernel)",
   "language": "python",
   "name": "python3"
  },
  "language_info": {
   "codemirror_mode": {
    "name": "ipython",
    "version": 3
   },
   "file_extension": ".py",
   "mimetype": "text/x-python",
   "name": "python",
   "nbconvert_exporter": "python",
   "pygments_lexer": "ipython3",
   "version": "3.9.7"
  }
 },
 "nbformat": 4,
 "nbformat_minor": 5
}
